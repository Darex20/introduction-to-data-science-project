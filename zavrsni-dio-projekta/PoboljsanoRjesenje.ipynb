{
 "cells": [
  {
   "cell_type": "code",
   "execution_count": 1,
   "id": "673415c0",
   "metadata": {},
   "outputs": [],
   "source": [
    "import sklearn\n",
    "import pandas as pd\n",
    "import numpy as np\n",
    "import collections\n",
    "import os.path\n",
    "from sklearn.model_selection import train_test_split\n",
    "from sklearn import svm\n",
    "from sklearn.svm import SVC\n",
    "from sklearn import linear_model\n",
    "from sklearn import tree\n",
    "from sklearn.model_selection import cross_val_score\n",
    "from keras.utils import np_utils\n",
    "from sklearn.neighbors import KNeighborsClassifier\n",
    "import matplotlib\n",
    "matplotlib.use('TkAgg')\n",
    "import matplotlib.pyplot as plt\n",
    "from sklearn.ensemble import RandomForestClassifier\n",
    "from sklearn.ensemble import AdaBoostClassifier\n",
    "from sklearn.ensemble import GradientBoostingClassifier\n",
    "import sys\n",
    "from sklearn.ensemble import GradientBoostingRegressor\n",
    "import math\n",
    "import csv\n",
    "from sklearn.ensemble import VotingClassifier\n",
    "from sklearn.metrics import classification_report\n",
    "from sklearn.calibration import CalibratedClassifierCV\n",
    "import urllib\n",
    "from sklearn.svm import LinearSVC\n",
    "import xgboost as xgb\n",
    "from sklearn.model_selection import GridSearchCV\n",
    "from datetime import datetime\n",
    "import random"
   ]
  },
  {
   "cell_type": "code",
   "execution_count": 2,
   "id": "2f839294",
   "metadata": {},
   "outputs": [
    {
     "name": "stdout",
     "output_type": "stream",
     "text": [
      "Shape of xTrain: (21449, 17)\n",
      "Shape of yTrain: (21449,)\n",
      "What year are these predictions for?\n",
      "2014\n"
     ]
    }
   ],
   "source": [
    "############################## LOAD TRAINING SET ##############################\n",
    "\n",
    "if os.path.exists(\"Data/PrecomputedMatrices/xTrain.npy\") and os.path.exists(\"Data/PrecomputedMatrices/yTrain.npy\"):\n",
    "\txTrain = np.load(\"Data/PrecomputedMatrices/xTrain.npy\")\n",
    "\tyTrain = np.load(\"Data/PrecomputedMatrices/yTrain.npy\")\n",
    "\tprint (\"Shape of xTrain:\", xTrain.shape)\n",
    "\tprint (\"Shape of yTrain:\", yTrain.shape)\n",
    "else:\n",
    "\tprint ('We need a training set! Run dataPreprocessing.py')\n",
    "\tsys.exit()\n",
    "\n",
    "# In case you want to run with Python 2\n",
    "try:\n",
    "    input = raw_input\n",
    "except NameError:\n",
    "    pass\n",
    "\n",
    "curYear = int(input('What year are these predictions for?\\n'))"
   ]
  },
  {
   "cell_type": "code",
   "execution_count": 3,
   "id": "5c74d2a7",
   "metadata": {},
   "outputs": [],
   "source": [
    "############################## LOAD CSV FILES ##############################\n",
    "\n",
    "teams_pd = pd.read_csv('Data/KaggleData/Teams.csv')"
   ]
  },
  {
   "cell_type": "code",
   "execution_count": 4,
   "id": "9d8c5249",
   "metadata": {},
   "outputs": [
    {
     "name": "stdout",
     "output_type": "stream",
     "text": [
      "Finished run #0. Accuracy = 0.7544284915159426\n",
      "Time taken: 0:00:10.240803\n",
      "The average accuracy is 0.7544284915159426\n"
     ]
    }
   ],
   "source": [
    "############################## TRAIN MODEL ##############################\n",
    "\n",
    "model = GradientBoostingRegressor(n_estimators=100, max_depth=5)\n",
    "\n",
    "categories=['Wins','PPG','PPGA','PowerConf','3PG', 'APG','TOP','Conference Champ','Tourney Conference Champ',\n",
    "           'Seed','SOS','SRS', 'RPG', 'SPG', 'Tourney Appearances','National Championships','Location']\n",
    "accuracy=[]\n",
    "numTrials = 1\n",
    "\n",
    "for i in range(numTrials):\n",
    "    X_train, X_test, Y_train, Y_test = train_test_split(xTrain, yTrain)\n",
    "    startTime = datetime.now() # For some timing stuff\n",
    "    results = model.fit(X_train, Y_train)\n",
    "    preds = model.predict(X_test)\n",
    "\n",
    "    preds[preds < .5] = 0\n",
    "    preds[preds >= .5] = 1\n",
    "    localAccuracy = np.mean(preds == Y_test)\n",
    "    accuracy.append(localAccuracy)\n",
    "    print (\"Finished run #\" + str(i) + \". Accuracy = \" + str(localAccuracy))\n",
    "    print (\"Time taken: \" + str(datetime.now() - startTime))\n",
    "if numTrials != 0:\n",
    "\tprint (\"The average accuracy is\", sum(accuracy)/len(accuracy))"
   ]
  },
  {
   "cell_type": "code",
   "execution_count": 5,
   "id": "439d8f14",
   "metadata": {},
   "outputs": [],
   "source": [
    "############################## TEST MODEL ##############################\n",
    "\n",
    "def predictGame(team_1_vector, team_2_vector, home, modelUsed):\n",
    "    diff = [a - b for a, b in zip(team_1_vector, team_2_vector)]\n",
    "    diff.append(home)\n",
    "    if hasattr(modelUsed, 'predict_proba'):\n",
    "\t    return modelUsed.predict_proba([diff])[0][1]\n",
    "    elif hasattr(modelUsed, 'predict'):\n",
    "        return modelUsed.predict([diff])[0]\n",
    "    else:\n",
    "        raise AttributeError(\"Model does not have expected prediction method\")"
   ]
  },
  {
   "cell_type": "code",
   "execution_count": 1,
   "id": "fa15d90c",
   "metadata": {},
   "outputs": [],
   "source": [
    "\n",
    "def loadTeamVectors(years):\n",
    "\tlistDictionaries = []\n",
    "\tfor year in years:\n",
    "\t\tcurVectors = np.load(\"Data/PrecomputedMatrices/TeamVectors/\" + str(year) + \"TeamVectors.npy\",allow_pickle=True).item()\n",
    "\t\tlistDictionaries.append(curVectors)\n",
    "\treturn listDictionaries\n",
    "\n"
   ]
  },
  {
   "cell_type": "code",
   "execution_count": 6,
   "id": "a4bcfd30",
   "metadata": {},
   "outputs": [
    {
     "data": {
      "text/plain": [
       "2014"
      ]
     },
     "execution_count": 6,
     "metadata": {},
     "output_type": "execute_result"
    }
   ],
   "source": [
    "curYear"
   ]
  },
  {
   "cell_type": "code",
   "execution_count": 7,
   "id": "89ffcbe2",
   "metadata": {},
   "outputs": [],
   "source": [
    "############################## PREDICTING ##############################\n",
    "\n",
    "def trainModel():\n",
    "\tmodel = GradientBoostingRegressor(n_estimators=100, max_depth=5)\n",
    "\tmodel.fit(xTrain, yTrain)\n",
    "\treturn model\n",
    "\n",
    "def findWinner(team1, team2, modelUsed):\n",
    "\tyear = [curYear]\n",
    "\tteamVectors = loadTeamVectors(year)[0]\n",
    "\tteam1Vector = teamVectors[int(teams_pd[teams_pd['TeamName'] == team1].values[0][0])]\n",
    "\tteam2Vector = teamVectors[int(teams_pd[teams_pd['TeamName'] == team2].values[0][0])]\n",
    "\tprediction = predictGame(team1Vector, team2Vector, 0, modelUsed)\n",
    "\tif (prediction < 0.5):\n",
    "\t\tprint (\"Probability that {0} wins: {1}\".format(team2, 1 - prediction))\n",
    "\telse:\n",
    "\t\tprint (\"Probability that {0} wins: {1}\".format(team1, prediction))"
   ]
  },
  {
   "cell_type": "code",
   "execution_count": 8,
   "id": "2b8b6855",
   "metadata": {},
   "outputs": [],
   "source": [
    "trainedModel = trainModel()"
   ]
  },
  {
   "cell_type": "code",
   "execution_count": 11,
   "id": "5800e6f9",
   "metadata": {},
   "outputs": [
    {
     "name": "stdout",
     "output_type": "stream",
     "text": [
      "Probability that Florida wins: 0.94377549302025\n",
      "Probability that Pittsburgh wins: 0.6315033004975257\n",
      "Probability that VA Commonwealth wins: 0.6537484184229876\n",
      "Probability that UCLA wins: 0.8348477875992311\n",
      "Probability that Ohio St wins: 0.6381131781997567\n",
      "Probability that Syracuse wins: 0.9762501514386593\n",
      "Probability that New Mexico wins: 0.52752818419239\n",
      "Probability that Kansas wins: 0.9593980811273365\n"
     ]
    }
   ],
   "source": [
    "#################Roundof 64#######################\n",
    "\n",
    "findWinner('Florida','Albany NY' ,trainedModel)             #✓\n",
    "findWinner('Pittsburgh', 'Colorado' ,trainedModel)      #✓\n",
    "findWinner('SF Austin', 'VA Commonwealth' ,trainedModel) \n",
    "findWinner('UCLA', 'Tulsa' ,trainedModel)    #✓\n",
    "findWinner('Dayton', 'Ohio St' ,trainedModel) \n",
    "findWinner('Syracuse', 'W Michigan' ,trainedModel) #✓\n",
    "findWinner('Stanford', 'New Mexico' ,trainedModel) \n",
    "findWinner('Kansas', 'E Kentucky' ,trainedModel) #✓"
   ]
  },
  {
   "cell_type": "code",
   "execution_count": 12,
   "id": "b2c034e1",
   "metadata": {},
   "outputs": [
    {
     "name": "stdout",
     "output_type": "stream",
     "text": [
      "Probability that Virginia wins: 1.004538779592295\n",
      "Probability that Memphis wins: 0.5211207437542839\n",
      "Probability that Cincinnati wins: 0.6968271168146272\n",
      "Probability that Michigan St wins: 0.9152267563006703\n",
      "Probability that North Carolina wins: 0.5982765119108003\n",
      "Probability that Iowa St wins: 0.8053684216496044\n",
      "Probability that Connecticut wins: 0.8508477907761932\n",
      "Probability that Villanova wins: 0.9585617812004315\n"
     ]
    }
   ],
   "source": [
    "findWinner('Virginia','Coastal Car' ,trainedModel)   #✓\n",
    "findWinner('Memphis', 'G Washington' ,trainedModel)     #✓ \n",
    "findWinner('Harvard', 'Cincinnati' ,trainedModel)  \n",
    "findWinner('Michigan St', 'Delaware' ,trainedModel) #✓\n",
    "findWinner('North Carolina', 'Providence' ,trainedModel) #✓\n",
    "findWinner('Iowa St', 'NC Central' ,trainedModel) #✓\n",
    "findWinner('Connecticut', \"St Joseph's PA\" ,trainedModel) #✓\n",
    "findWinner('Villanova', 'WI Milwaukee' ,trainedModel)#✓"
   ]
  },
  {
   "cell_type": "code",
   "execution_count": 13,
   "id": "b8eb86be",
   "metadata": {},
   "outputs": [
    {
     "name": "stdout",
     "output_type": "stream",
     "text": [
      "Probability that Arizona wins: 0.9450481081581927\n",
      "Probability that Gonzaga wins: 0.5483375239864647\n",
      "Probability that Oklahoma wins: 0.7140195399634542\n",
      "Probability that New Mexico St wins: 0.7553013069186602\n",
      "Probability that Baylor wins: 0.7838870933382124\n",
      "Probability that Creighton wins: 0.9566739085148322\n",
      "Probability that Oregon wins: 0.6950893484918282\n",
      "Probability that Wisconsin wins: 0.9929276871569452\n"
     ]
    }
   ],
   "source": [
    "findWinner('Arizona','Weber St' ,trainedModel)        #✓\n",
    "findWinner('Gonzaga', 'Oklahoma St' ,trainedModel)      #✓\n",
    "findWinner('N Dakota St', 'Oklahoma' ,trainedModel)    \n",
    "findWinner('S Dakota St', 'New Mexico St' ,trainedModel) \n",
    "findWinner('Baylor', 'Nebraska' ,trainedModel)  #✓\n",
    "findWinner('Creighton', 'Lafayette' ,trainedModel)   #✓\n",
    "findWinner('Oregon', 'BYU' ,trainedModel) #✓\n",
    "findWinner('Wisconsin', 'American Univ' ,trainedModel)   #✓"
   ]
  },
  {
   "cell_type": "code",
   "execution_count": 14,
   "id": "7e8721d2",
   "metadata": {
    "scrolled": true
   },
   "outputs": [
    {
     "name": "stdout",
     "output_type": "stream",
     "text": [
      "Probability that Wichita St wins: 0.9717982421991935\n",
      "Probability that Kentucky wins: 0.8285202687378068\n",
      "Probability that St Louis wins: 0.6318165618920558\n",
      "Probability that Louisville wins: 0.9526032200424264\n",
      "Probability that Tennessee wins: 0.8490916766853496\n",
      "Probability that Duke wins: 0.7016090592531744\n",
      "Probability that Texas wins: 0.6367838857949485\n",
      "Probability that Michigan wins: 0.9432413970816135\n"
     ]
    }
   ],
   "source": [
    "findWinner('Wichita St','Cal Poly SLO' ,trainedModel)        #✓     \n",
    "findWinner('Kentucky', 'Kansas St' ,trainedModel)      #✓\n",
    "findWinner('St Louis', 'NC State' ,trainedModel) #✓\n",
    "findWinner('Louisville', 'Manhattan' ,trainedModel)   #✓\n",
    "findWinner('Tennessee', 'Massachusetts' ,trainedModel) #✓\n",
    "findWinner('Mercer', 'Duke' ,trainedModel) \n",
    "findWinner('Texas', 'Arizona St' ,trainedModel) #✓\n",
    "findWinner('Michigan', 'Wofford' ,trainedModel) #✓"
   ]
  },
  {
   "cell_type": "code",
   "execution_count": 15,
   "id": "c9812c98",
   "metadata": {},
   "outputs": [
    {
     "name": "stdout",
     "output_type": "stream",
     "text": [
      "Probability that Florida wins: 0.7997356214370853\n",
      "Probability that UCLA wins: 0.8815146836292781\n",
      "Probability that Syracuse wins: 0.683947607909837\n",
      "Probability that Kansas wins: 0.6869930751534805\n",
      "\n",
      "Probability that Virginia wins: 0.5821178206547932\n",
      "Probability that Michigan St wins: 0.8582642059286295\n",
      "Probability that Iowa St wins: 0.7470778522300897\n",
      "Probability that Connecticut wins: 0.5708688254394986\n",
      "\n",
      "Probability that Arizona wins: 0.8216965359368915\n",
      "Probability that N Dakota St wins: 0.816080629417826\n",
      "Probability that Creighton wins: 0.5674473300347616\n",
      "Probability that Wisconsin wins: 0.7865014432933227\n",
      "\n",
      "Probability that Wichita St wins: 0.5050526655289621\n",
      "Probability that Louisville wins: 0.8396032675449366\n",
      "Probability that Tennessee wins: 0.7289979514102106\n",
      "Probability that Michigan wins: 0.7055497661651663\n"
     ]
    }
   ],
   "source": [
    "############################# Round of 32#########################################\n",
    "\n",
    "findWinner('Florida','Pittsburgh' ,trainedModel)    #✓         \n",
    "findWinner('UCLA', 'SF Austin' ,trainedModel)      #✓\n",
    "findWinner('Dayton', 'Syracuse' ,trainedModel) \n",
    "findWinner('Stanford', 'Kansas' ,trainedModel) \n",
    "print()\n",
    "findWinner('Virginia','Memphis' ,trainedModel)           #✓  \n",
    "findWinner('Michigan St', 'Harvard' ,trainedModel)     #✓ \n",
    "findWinner('Iowa St', 'North Carolina' ,trainedModel) #✓\n",
    "findWinner('Connecticut', 'Villanova' ,trainedModel) #✓\n",
    "print()\n",
    "findWinner('Arizona','Gonzaga' ,trainedModel)            #✓ \n",
    "findWinner('S Dakota St', 'N Dakota St' ,trainedModel)      \n",
    "findWinner('Baylor', 'Creighton' ,trainedModel) \n",
    "findWinner('Wisconsin', 'Oregon' ,trainedModel) #✓\n",
    "print()\n",
    "findWinner('Kentucky', 'Wichita St' ,trainedModel) \n",
    "findWinner('Louisville', 'St Louis' ,trainedModel) #✓\n",
    "findWinner('Tennessee', 'Mercer' ,trainedModel) #✓\n",
    "findWinner('Michigan', 'Texas' ,trainedModel) #✓"
   ]
  },
  {
   "cell_type": "code",
   "execution_count": 16,
   "id": "0d8ff4ea",
   "metadata": {},
   "outputs": [
    {
     "name": "stdout",
     "output_type": "stream",
     "text": [
      "Probability that Florida wins: 0.7814677272994124\n",
      "Probability that Stanford wins: 0.5730496290698291\n",
      "Probability that Virginia wins: 0.5763623020231956\n",
      "Probability that Connecticut wins: 0.5828629003708498\n",
      "Probability that Arizona wins: 0.95764211278621\n",
      "Probability that Wisconsin wins: 0.7205628618201545\n",
      "Probability that Louisville wins: 0.5052952521996934\n",
      "Probability that Michigan wins: 0.7373734143436592\n"
     ]
    }
   ],
   "source": [
    "#####################################Round of 16 ###########################################\n",
    "findWinner('Florida','UCLA' ,trainedModel)          #✓   \n",
    "findWinner('Dayton', 'Stanford' ,trainedModel)      \n",
    "findWinner('Michigan St', 'Virginia' ,trainedModel) \n",
    "findWinner('Connecticut', 'Iowa St' ,trainedModel)   #✓\n",
    "findWinner('Arizona', 'S Dakota St' ,trainedModel) #✓\n",
    "findWinner('Wisconsin', 'Baylor' ,trainedModel) #✓\n",
    "findWinner('Kentucky', 'Louisville' ,trainedModel) \n",
    "findWinner('Michigan', 'Tennessee' ,trainedModel) #✓"
   ]
  },
  {
   "cell_type": "code",
   "execution_count": 17,
   "id": "0ec2f31f",
   "metadata": {},
   "outputs": [
    {
     "name": "stdout",
     "output_type": "stream",
     "text": [
      "Probability that Florida wins: 0.832510681814112\n",
      "Probability that Connecticut wins: 0.5044975165955597\n",
      "Probability that Arizona wins: 0.5356877999032337\n",
      "Probability that Michigan wins: 0.5229744059500242\n",
      "\n",
      "Probability that Florida wins: 0.6497615569598787\n",
      "Probability that Wisconsin wins: 0.6009352369916763\n",
      "\n",
      "Probability that Connecticut wins: 0.5974686267142687\n"
     ]
    }
   ],
   "source": [
    "findWinner('Florida', 'Dayton' ,trainedModel) #✓\n",
    "findWinner('Connecticut', 'Michigan St' ,trainedModel) #✓\n",
    "findWinner('Wisconsin', 'Arizona' ,trainedModel) \n",
    "findWinner('Kentucky', 'Michigan' ,trainedModel) \n",
    "print()\n",
    "findWinner('Connecticut', 'Florida' ,trainedModel) \n",
    "findWinner('Kentucky', 'Wisconsin' ,trainedModel) \n",
    "print()\n",
    "findWinner('Connecticut', 'Kentucky' ,trainedModel) #✓"
   ]
  }
 ],
 "metadata": {
  "kernelspec": {
   "display_name": "Python 3 (ipykernel)",
   "language": "python",
   "name": "python3"
  },
  "language_info": {
   "codemirror_mode": {
    "name": "ipython",
    "version": 3
   },
   "file_extension": ".py",
   "mimetype": "text/x-python",
   "name": "python",
   "nbconvert_exporter": "python",
   "pygments_lexer": "ipython3",
   "version": "3.9.0"
  }
 },
 "nbformat": 4,
 "nbformat_minor": 5
}
